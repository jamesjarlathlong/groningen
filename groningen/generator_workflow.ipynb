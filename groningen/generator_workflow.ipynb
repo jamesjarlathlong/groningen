{
 "cells": [
  {
   "cell_type": "code",
   "execution_count": 3,
   "metadata": {
    "collapsed": true
   },
   "outputs": [],
   "source": [
    "import tensorflow as tf\n",
    "import functools"
   ]
  },
  {
   "cell_type": "code",
   "execution_count": 51,
   "metadata": {
    "collapsed": true
   },
   "outputs": [],
   "source": [
    "def label(i):\n",
    "    return 0 if i<10 else 1\n",
    "def gen(nn):\n",
    "    ii = 0\n",
    "    while ii < nn:\n",
    "        ii += 1\n",
    "        yield ii, ii+4, label(ii*2)\n",
    "def input_fn(n):\n",
    "    ds = tf.data.Dataset.from_generator(lambda: gen(n), (tf.int64, tf.int64,tf.int64)\n",
    "                                        ,([],[],[])) \n",
    "    ds = ds.batch(10)\n",
    "    x, y, z = ds.make_one_shot_iterator().get_next()\n",
    "    return {'x': x, 'y': y}, z\n",
    "\n",
    "def build_columns():\n",
    "    x = tf.feature_column.numeric_column('x')\n",
    "    y = tf.feature_column.numeric_column('y')\n",
    "    return [x, y]\n",
    "\n",
    "def mainr():\n",
    "    model = tf.estimator.DNNClassifier(\n",
    "        feature_columns=build_columns()\n",
    "        ,n_classes=2\n",
    "        ,hidden_units=[100, 100]\n",
    "        )\n",
    "    model.train(input_fn=lambda:input_fn(100))\n",
    "    results = model.evaluate(input_fn = lambda:input_fn(20))\n",
    "    print(results)"
   ]
  },
  {
   "cell_type": "code",
   "execution_count": 52,
   "metadata": {},
   "outputs": [
    {
     "name": "stdout",
     "output_type": "stream",
     "text": [
      "INFO:tensorflow:Using default config.\n",
      "WARNING:tensorflow:Using temporary folder as model directory: /tmp/tmpplky4zpt\n",
      "INFO:tensorflow:Using config: {'_service': None, '_save_checkpoints_secs': 600, '_cluster_spec': <tensorflow.python.training.server_lib.ClusterSpec object at 0x7fef8868b9e8>, '_task_id': 0, '_session_config': None, '_model_dir': '/tmp/tmpplky4zpt', '_num_worker_replicas': 1, '_log_step_count_steps': 100, '_save_summary_steps': 100, '_keep_checkpoint_every_n_hours': 10000, '_save_checkpoints_steps': None, '_is_chief': True, '_num_ps_replicas': 0, '_master': '', '_task_type': 'worker', '_keep_checkpoint_max': 5, '_tf_random_seed': None}\n",
      "INFO:tensorflow:Create CheckpointSaverHook.\n",
      "INFO:tensorflow:Saving checkpoints for 1 into /tmp/tmpplky4zpt/model.ckpt.\n",
      "INFO:tensorflow:loss = 6.842341, step = 1\n",
      "INFO:tensorflow:Saving checkpoints for 100 into /tmp/tmpplky4zpt/model.ckpt.\n",
      "INFO:tensorflow:Loss for final step: 0.0.\n",
      "INFO:tensorflow:Starting evaluation at 2018-03-05-18:23:49\n",
      "INFO:tensorflow:Restoring parameters from /tmp/tmpplky4zpt/model.ckpt-100\n",
      "INFO:tensorflow:Finished evaluation at 2018-03-05-18:23:49\n",
      "INFO:tensorflow:Saving dict for global step 100: accuracy = 0.8, accuracy_baseline = 0.8, auc = 0.49999994, auc_precision_recall = 0.8999999, average_loss = 1.9965992, global_step = 100, label/mean = 0.8, loss = 19.965992, prediction/mean = 0.9999361\n",
      "{'label/mean': 0.8, 'loss': 19.965992, 'auc': 0.49999994, 'accuracy_baseline': 0.8, 'average_loss': 1.9965992, 'accuracy': 0.8, 'global_step': 100, 'auc_precision_recall': 0.8999999, 'prediction/mean': 0.9999361}\n"
     ]
    }
   ],
   "source": [
    "mainr()"
   ]
  },
  {
   "cell_type": "code",
   "execution_count": null,
   "metadata": {},
   "outputs": [],
   "source": []
  },
  {
   "cell_type": "code",
   "execution_count": null,
   "metadata": {
    "collapsed": true
   },
   "outputs": [],
   "source": []
  }
 ],
 "metadata": {
  "kernelspec": {
   "display_name": "groningen",
   "language": "python",
   "name": "groningen"
  },
  "language_info": {
   "codemirror_mode": {
    "name": "ipython",
    "version": 3
   },
   "file_extension": ".py",
   "mimetype": "text/x-python",
   "name": "python",
   "nbconvert_exporter": "python",
   "pygments_lexer": "ipython3",
   "version": "3.4.3"
  }
 },
 "nbformat": 4,
 "nbformat_minor": 2
}
