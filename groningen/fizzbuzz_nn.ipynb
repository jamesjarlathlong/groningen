{
 "cells": [
  {
   "cell_type": "code",
   "execution_count": 31,
   "metadata": {
    "collapsed": true
   },
   "outputs": [],
   "source": [
    "import numpy as np\n",
    "import tensorflow as tf\n",
    "import pandas as pd\n",
    "import functools\n",
    "import itertools"
   ]
  },
  {
   "cell_type": "code",
   "execution_count": 2,
   "metadata": {},
   "outputs": [],
   "source": [
    "def binary_encode(i, num_digits):\n",
    "    return np.array([i >> d & 1 for d in range(num_digits)])\n",
    "def fizz_buzz_encode(i):\n",
    "    if   i % 15 == 0: return 0#np.array([0, 0, 0, 1])\n",
    "    elif i % 5  == 0: return 1 #np.array([0, 0, 1, 0])\n",
    "    elif i % 3  == 0: return 2#np.array([0, 1, 0, 0])\n",
    "    else:             return 3#np.array([1, 0, 0, 0])\n",
    "\n",
    "def invert(label, sample):\n",
    "    if label == 3:\n",
    "        return sample\n",
    "    else:\n",
    "        return {0:'fizzbuzz', 1:'fizz',2:'buzz'}[label]"
   ]
  },
  {
   "cell_type": "code",
   "execution_count": 47,
   "metadata": {},
   "outputs": [
    {
     "name": "stdout",
     "output_type": "stream",
     "text": [
      "Tensor(\"IteratorGetNext_4:0\", dtype=int64)\n"
     ]
    }
   ],
   "source": [
    "def generate_training(num_digits, therange):\n",
    "    for i in range(*therange):\n",
    "        yield binary_encode(i, num_digits)\n",
    "names=[str(i) for i in range(10)]\n",
    "train_x = pd.DataFrame((i for i in generate_training(10,(101,1024))), columns=names)\n",
    "test_range = (0,100)\n",
    "train_range = (101,1024)\n",
    "train_y = np.asarray([fizz_buzz_encode(i) for i in range(*train_range)])\n",
    "test_x = pd.DataFrame((i for i in generate_training(10,test_range)),columns=names)\n",
    "test_y = np.asarray([fizz_buzz_encode(i) for i in range(*test_range)])\n",
    "def gen(x,y):\n",
    "    for idx, row in x.iterrows():\n",
    "        data = dict(row)\n",
    "        print('data',data)\n",
    "        yield(data, y[idx])\n",
    "\n",
    "def train_input_fn(features, labels, batch_size=20):\n",
    "    \"\"\"An input function for training\"\"\"\n",
    "    # Convert the inputs to a Dataset.\n",
    "    dataset = tf.data.Dataset.from_tensor_slices((dict(features), labels))#.map(namer)\n",
    "    g = functools.partial(gen,features, labels)\n",
    "    dataset = tf.data.Dataset.from_generator(lambda: g(), output_types=(tf.int64, tf.int64))\n",
    "    # Shuffle, repeat, and batch the examples.\n",
    "    dataset = dataset.shuffle(1000).repeat(100).batch(batch_size)\n",
    "    # Return the dataset.\n",
    "    iterator = dataset.make_one_shot_iterator()\n",
    "    data, labels = iterator.get_next()\n",
    "    return data, labels\n",
    "def test_input_fn(features, labels, batch_size=20):\n",
    "    \"\"\"An input function for evaluation or prediction\"\"\"\n",
    "    dataset = tf.data.Dataset.from_tensor_slices((dict(features), labels))#.map(namer)\n",
    "    # Batch the examples\n",
    "    assert batch_size is not None, \"batch_size must not be None\"\n",
    "    dataset = dataset.batch(batch_size)\n",
    "    # Return the dataset.\n",
    "    iterator = dataset.make_one_shot_iterator()\n",
    "    data, labels = iterator.get_next()\n",
    "    return data, labels\n",
    "d,l = train_input_fn(train_x, train_y)\n",
    "print(d)"
   ]
  },
  {
   "cell_type": "code",
   "execution_count": 41,
   "metadata": {},
   "outputs": [
    {
     "name": "stdout",
     "output_type": "stream",
     "text": [
      "INFO:tensorflow:Using default config.\n",
      "WARNING:tensorflow:Using temporary folder as model directory: /tmp/tmp0zk1k4xi\n",
      "INFO:tensorflow:Using config: {'_master': '', '_save_checkpoints_steps': None, '_num_worker_replicas': 1, '_num_ps_replicas': 0, '_tf_random_seed': None, '_task_id': 0, '_save_summary_steps': 100, '_cluster_spec': <tensorflow.python.training.server_lib.ClusterSpec object at 0x7f5bf68bc2e8>, '_save_checkpoints_secs': 600, '_session_config': None, '_log_step_count_steps': 100, '_keep_checkpoint_every_n_hours': 10000, '_service': None, '_model_dir': '/tmp/tmp0zk1k4xi', '_keep_checkpoint_max': 5, '_task_type': 'worker', '_is_chief': True}\n"
     ]
    },
    {
     "ename": "ValueError",
     "evalue": "features should be a dictionary of `Tensor`s. Given type: <class 'tensorflow.python.framework.ops.Tensor'>",
     "output_type": "error",
     "traceback": [
      "\u001b[0;31m---------------------------------------------------------------------------\u001b[0m",
      "\u001b[0;31mValueError\u001b[0m                                Traceback (most recent call last)",
      "\u001b[0;32m<ipython-input-41-c4577c984342>\u001b[0m in \u001b[0;36m<module>\u001b[0;34m()\u001b[0m\n\u001b[1;32m     26\u001b[0m     \u001b[0mexpected\u001b[0m \u001b[0;34m=\u001b[0m \u001b[0;34m[\u001b[0m\u001b[0minvert\u001b[0m\u001b[0;34m(\u001b[0m\u001b[0mfizz_buzz_encode\u001b[0m\u001b[0;34m(\u001b[0m\u001b[0mi\u001b[0m\u001b[0;34m)\u001b[0m\u001b[0;34m,\u001b[0m\u001b[0mi\u001b[0m\u001b[0;34m)\u001b[0m \u001b[0;32mfor\u001b[0m \u001b[0mi\u001b[0m\u001b[0;34m,\u001b[0m \u001b[0mp\u001b[0m \u001b[0;32min\u001b[0m \u001b[0menumerate\u001b[0m\u001b[0;34m(\u001b[0m\u001b[0mtest_y\u001b[0m\u001b[0;34m)\u001b[0m\u001b[0;34m]\u001b[0m\u001b[0;34m\u001b[0m\u001b[0m\n\u001b[1;32m     27\u001b[0m     \u001b[0;32mreturn\u001b[0m \u001b[0mexpected\u001b[0m\u001b[0;34m,\u001b[0m \u001b[0mformatted\u001b[0m\u001b[0;34m\u001b[0m\u001b[0m\n\u001b[0;32m---> 28\u001b[0;31m \u001b[0me\u001b[0m\u001b[0;34m,\u001b[0m \u001b[0mf\u001b[0m \u001b[0;34m=\u001b[0m \u001b[0mmain\u001b[0m\u001b[0;34m(\u001b[0m\u001b[0mtrain_x\u001b[0m\u001b[0;34m,\u001b[0m \u001b[0mtrain_y\u001b[0m\u001b[0;34m,\u001b[0m \u001b[0mtest_x\u001b[0m\u001b[0;34m,\u001b[0m \u001b[0mtest_y\u001b[0m\u001b[0;34m)\u001b[0m\u001b[0;34m\u001b[0m\u001b[0m\n\u001b[0m",
      "\u001b[0;32m<ipython-input-41-c4577c984342>\u001b[0m in \u001b[0;36mmain\u001b[0;34m(train_x, train_y, test_x, test_y)\u001b[0m\n\u001b[1;32m     13\u001b[0m \u001b[0;34m\u001b[0m\u001b[0m\n\u001b[1;32m     14\u001b[0m     \u001b[0;31m# Train the Model.\u001b[0m\u001b[0;34m\u001b[0m\u001b[0;34m\u001b[0m\u001b[0m\n\u001b[0;32m---> 15\u001b[0;31m     \u001b[0mclassifier\u001b[0m\u001b[0;34m.\u001b[0m\u001b[0mtrain\u001b[0m\u001b[0;34m(\u001b[0m\u001b[0minput_fn\u001b[0m\u001b[0;34m=\u001b[0m\u001b[0;32mlambda\u001b[0m\u001b[0;34m:\u001b[0m\u001b[0mtrain_input_fn\u001b[0m\u001b[0;34m(\u001b[0m\u001b[0mtrain_x\u001b[0m\u001b[0;34m,\u001b[0m \u001b[0mtrain_y\u001b[0m\u001b[0;34m)\u001b[0m\u001b[0;34m)\u001b[0m\u001b[0;34m\u001b[0m\u001b[0m\n\u001b[0m\u001b[1;32m     16\u001b[0m \u001b[0;34m\u001b[0m\u001b[0m\n\u001b[1;32m     17\u001b[0m     \u001b[0;31m# Evaluate the model.\u001b[0m\u001b[0;34m\u001b[0m\u001b[0;34m\u001b[0m\u001b[0m\n",
      "\u001b[0;32m~/groningen/venv/lib/python3.4/site-packages/tensorflow/python/estimator/estimator.py\u001b[0m in \u001b[0;36mtrain\u001b[0;34m(self, input_fn, hooks, steps, max_steps, saving_listeners)\u001b[0m\n\u001b[1;32m    312\u001b[0m \u001b[0;34m\u001b[0m\u001b[0m\n\u001b[1;32m    313\u001b[0m     \u001b[0msaving_listeners\u001b[0m \u001b[0;34m=\u001b[0m \u001b[0m_check_listeners_type\u001b[0m\u001b[0;34m(\u001b[0m\u001b[0msaving_listeners\u001b[0m\u001b[0;34m)\u001b[0m\u001b[0;34m\u001b[0m\u001b[0m\n\u001b[0;32m--> 314\u001b[0;31m     \u001b[0mloss\u001b[0m \u001b[0;34m=\u001b[0m \u001b[0mself\u001b[0m\u001b[0;34m.\u001b[0m\u001b[0m_train_model\u001b[0m\u001b[0;34m(\u001b[0m\u001b[0minput_fn\u001b[0m\u001b[0;34m,\u001b[0m \u001b[0mhooks\u001b[0m\u001b[0;34m,\u001b[0m \u001b[0msaving_listeners\u001b[0m\u001b[0;34m)\u001b[0m\u001b[0;34m\u001b[0m\u001b[0m\n\u001b[0m\u001b[1;32m    315\u001b[0m     \u001b[0mlogging\u001b[0m\u001b[0;34m.\u001b[0m\u001b[0minfo\u001b[0m\u001b[0;34m(\u001b[0m\u001b[0;34m'Loss for final step: %s.'\u001b[0m\u001b[0;34m,\u001b[0m \u001b[0mloss\u001b[0m\u001b[0;34m)\u001b[0m\u001b[0;34m\u001b[0m\u001b[0m\n\u001b[1;32m    316\u001b[0m     \u001b[0;32mreturn\u001b[0m \u001b[0mself\u001b[0m\u001b[0;34m\u001b[0m\u001b[0m\n",
      "\u001b[0;32m~/groningen/venv/lib/python3.4/site-packages/tensorflow/python/estimator/estimator.py\u001b[0m in \u001b[0;36m_train_model\u001b[0;34m(self, input_fn, hooks, saving_listeners)\u001b[0m\n\u001b[1;32m    741\u001b[0m       \u001b[0mworker_hooks\u001b[0m\u001b[0;34m.\u001b[0m\u001b[0mextend\u001b[0m\u001b[0;34m(\u001b[0m\u001b[0minput_hooks\u001b[0m\u001b[0;34m)\u001b[0m\u001b[0;34m\u001b[0m\u001b[0m\n\u001b[1;32m    742\u001b[0m       estimator_spec = self._call_model_fn(\n\u001b[0;32m--> 743\u001b[0;31m           features, labels, model_fn_lib.ModeKeys.TRAIN, self.config)\n\u001b[0m\u001b[1;32m    744\u001b[0m       \u001b[0;31m# Check if the user created a loss summary, and add one if they didn't.\u001b[0m\u001b[0;34m\u001b[0m\u001b[0;34m\u001b[0m\u001b[0m\n\u001b[1;32m    745\u001b[0m       \u001b[0;31m# We assume here that the summary is called 'loss'. If it is not, we will\u001b[0m\u001b[0;34m\u001b[0m\u001b[0;34m\u001b[0m\u001b[0m\n",
      "\u001b[0;32m~/groningen/venv/lib/python3.4/site-packages/tensorflow/python/estimator/estimator.py\u001b[0m in \u001b[0;36m_call_model_fn\u001b[0;34m(self, features, labels, mode, config)\u001b[0m\n\u001b[1;32m    723\u001b[0m     \u001b[0;32mif\u001b[0m \u001b[0;34m'config'\u001b[0m \u001b[0;32min\u001b[0m \u001b[0mmodel_fn_args\u001b[0m\u001b[0;34m:\u001b[0m\u001b[0;34m\u001b[0m\u001b[0m\n\u001b[1;32m    724\u001b[0m       \u001b[0mkwargs\u001b[0m\u001b[0;34m[\u001b[0m\u001b[0;34m'config'\u001b[0m\u001b[0;34m]\u001b[0m \u001b[0;34m=\u001b[0m \u001b[0mconfig\u001b[0m\u001b[0;34m\u001b[0m\u001b[0m\n\u001b[0;32m--> 725\u001b[0;31m     \u001b[0mmodel_fn_results\u001b[0m \u001b[0;34m=\u001b[0m \u001b[0mself\u001b[0m\u001b[0;34m.\u001b[0m\u001b[0m_model_fn\u001b[0m\u001b[0;34m(\u001b[0m\u001b[0mfeatures\u001b[0m\u001b[0;34m=\u001b[0m\u001b[0mfeatures\u001b[0m\u001b[0;34m,\u001b[0m \u001b[0;34m**\u001b[0m\u001b[0mkwargs\u001b[0m\u001b[0;34m)\u001b[0m\u001b[0;34m\u001b[0m\u001b[0m\n\u001b[0m\u001b[1;32m    726\u001b[0m \u001b[0;34m\u001b[0m\u001b[0m\n\u001b[1;32m    727\u001b[0m     \u001b[0;32mif\u001b[0m \u001b[0;32mnot\u001b[0m \u001b[0misinstance\u001b[0m\u001b[0;34m(\u001b[0m\u001b[0mmodel_fn_results\u001b[0m\u001b[0;34m,\u001b[0m \u001b[0mmodel_fn_lib\u001b[0m\u001b[0;34m.\u001b[0m\u001b[0mEstimatorSpec\u001b[0m\u001b[0;34m)\u001b[0m\u001b[0;34m:\u001b[0m\u001b[0;34m\u001b[0m\u001b[0m\n",
      "\u001b[0;32m~/groningen/venv/lib/python3.4/site-packages/tensorflow/python/estimator/canned/dnn.py\u001b[0m in \u001b[0;36m_model_fn\u001b[0;34m(features, labels, mode, config)\u001b[0m\n\u001b[1;32m    322\u001b[0m           \u001b[0mdropout\u001b[0m\u001b[0;34m=\u001b[0m\u001b[0mdropout\u001b[0m\u001b[0;34m,\u001b[0m\u001b[0;34m\u001b[0m\u001b[0m\n\u001b[1;32m    323\u001b[0m           \u001b[0minput_layer_partitioner\u001b[0m\u001b[0;34m=\u001b[0m\u001b[0minput_layer_partitioner\u001b[0m\u001b[0;34m,\u001b[0m\u001b[0;34m\u001b[0m\u001b[0m\n\u001b[0;32m--> 324\u001b[0;31m           config=config)\n\u001b[0m\u001b[1;32m    325\u001b[0m     super(DNNClassifier, self).__init__(\n\u001b[1;32m    326\u001b[0m         model_fn=_model_fn, model_dir=model_dir, config=config)\n",
      "\u001b[0;32m~/groningen/venv/lib/python3.4/site-packages/tensorflow/python/estimator/canned/dnn.py\u001b[0m in \u001b[0;36m_dnn_model_fn\u001b[0;34m(features, labels, mode, head, hidden_units, feature_columns, optimizer, activation_fn, dropout, input_layer_partitioner, config)\u001b[0m\n\u001b[1;32m    151\u001b[0m   \u001b[0;32mif\u001b[0m \u001b[0;32mnot\u001b[0m \u001b[0misinstance\u001b[0m\u001b[0;34m(\u001b[0m\u001b[0mfeatures\u001b[0m\u001b[0;34m,\u001b[0m \u001b[0mdict\u001b[0m\u001b[0;34m)\u001b[0m\u001b[0;34m:\u001b[0m\u001b[0;34m\u001b[0m\u001b[0m\n\u001b[1;32m    152\u001b[0m     raise ValueError('features should be a dictionary of `Tensor`s. '\n\u001b[0;32m--> 153\u001b[0;31m                      'Given type: {}'.format(type(features)))\n\u001b[0m\u001b[1;32m    154\u001b[0m   optimizer = optimizers.get_optimizer_instance(\n\u001b[1;32m    155\u001b[0m       optimizer, learning_rate=_LEARNING_RATE)\n",
      "\u001b[0;31mValueError\u001b[0m: features should be a dictionary of `Tensor`s. Given type: <class 'tensorflow.python.framework.ops.Tensor'>"
     ]
    }
   ],
   "source": [
    "def main(train_x, train_y, test_x, test_y):\n",
    "    my_feature_columns = [tf.feature_column.numeric_column(key=str(k))\n",
    "                          for k in range(10)]\n",
    "\n",
    "    # Build 2 hidden layer DNN with 10, 10 units respectively.\n",
    "    classifier = tf.estimator.DNNClassifier(\n",
    "        feature_columns=my_feature_columns,\n",
    "        # The model must choose between 4 classes\n",
    "        n_classes=4,\n",
    "        # Two hidden layers of 100 nodes each.\n",
    "        hidden_units=[100, 100]\n",
    "        )\n",
    "\n",
    "    # Train the Model.\n",
    "    classifier.train(input_fn=lambda:train_input_fn(train_x, train_y))\n",
    "\n",
    "    # Evaluate the model.\n",
    "    eval_result = classifier.evaluate(\n",
    "        input_fn=lambda:test_input_fn(test_x, test_y))\n",
    "\n",
    "    print('\\nTest set accuracy: {accuracy:0.3f}\\n'.format(**eval_result))\n",
    "    predictions = classifier.predict(\n",
    "        input_fn=lambda:test_input_fn(test_x,test_y))\n",
    "    formatted = [invert(pred.get('class_ids')[0], idx)\n",
    "                for idx, pred in enumerate(predictions)]\n",
    "    expected = [invert(fizz_buzz_encode(i),i) for i, p in enumerate(test_y)]\n",
    "    return expected, formatted\n",
    "e, f = main(train_x, train_y, test_x, test_y)"
   ]
  },
  {
   "cell_type": "code",
   "execution_count": 5,
   "metadata": {},
   "outputs": [
    {
     "name": "stdout",
     "output_type": "stream",
     "text": [
      "answer is fizzbuzz, neural net predicted fizzbuzz\n",
      "answer is 1, neural net predicted 1\n",
      "answer is 2, neural net predicted fizz\n",
      "answer is buzz, neural net predicted buzz\n",
      "answer is 4, neural net predicted 4\n",
      "answer is fizz, neural net predicted fizz\n",
      "answer is buzz, neural net predicted buzz\n",
      "answer is 7, neural net predicted 7\n",
      "answer is 8, neural net predicted 8\n",
      "answer is buzz, neural net predicted buzz\n",
      "answer is fizz, neural net predicted fizz\n",
      "answer is 11, neural net predicted 11\n",
      "answer is buzz, neural net predicted buzz\n",
      "answer is 13, neural net predicted 13\n",
      "answer is 14, neural net predicted 14\n",
      "answer is fizzbuzz, neural net predicted fizzbuzz\n",
      "answer is 16, neural net predicted 16\n",
      "answer is 17, neural net predicted 17\n",
      "answer is buzz, neural net predicted buzz\n",
      "answer is 19, neural net predicted 19\n",
      "answer is fizz, neural net predicted fizz\n",
      "answer is buzz, neural net predicted buzz\n",
      "answer is 22, neural net predicted 22\n",
      "answer is 23, neural net predicted 23\n",
      "answer is buzz, neural net predicted buzz\n",
      "answer is fizz, neural net predicted fizz\n",
      "answer is 26, neural net predicted 26\n",
      "answer is buzz, neural net predicted buzz\n",
      "answer is 28, neural net predicted 28\n",
      "answer is 29, neural net predicted 29\n",
      "answer is fizzbuzz, neural net predicted fizzbuzz\n",
      "answer is 31, neural net predicted 31\n",
      "answer is 32, neural net predicted fizz\n",
      "answer is buzz, neural net predicted buzz\n",
      "answer is 34, neural net predicted buzz\n",
      "answer is fizz, neural net predicted fizz\n",
      "answer is buzz, neural net predicted buzz\n",
      "answer is 37, neural net predicted 37\n",
      "answer is 38, neural net predicted fizz\n",
      "answer is buzz, neural net predicted buzz\n",
      "answer is fizz, neural net predicted fizz\n",
      "answer is 41, neural net predicted 41\n",
      "answer is buzz, neural net predicted 42\n",
      "answer is 43, neural net predicted 43\n",
      "answer is 44, neural net predicted 44\n",
      "answer is fizzbuzz, neural net predicted fizzbuzz\n",
      "answer is 46, neural net predicted 46\n",
      "answer is 47, neural net predicted 47\n",
      "answer is buzz, neural net predicted buzz\n",
      "answer is 49, neural net predicted 49\n",
      "answer is fizz, neural net predicted fizz\n",
      "answer is buzz, neural net predicted buzz\n",
      "answer is 52, neural net predicted 52\n",
      "answer is 53, neural net predicted 53\n",
      "answer is buzz, neural net predicted buzz\n",
      "answer is fizz, neural net predicted fizz\n",
      "answer is 56, neural net predicted 56\n",
      "answer is buzz, neural net predicted buzz\n",
      "answer is 58, neural net predicted 58\n",
      "answer is 59, neural net predicted 59\n",
      "answer is fizzbuzz, neural net predicted fizzbuzz\n",
      "answer is 61, neural net predicted 61\n",
      "answer is 62, neural net predicted 62\n",
      "answer is buzz, neural net predicted buzz\n",
      "answer is 64, neural net predicted 64\n",
      "answer is fizz, neural net predicted fizz\n",
      "answer is buzz, neural net predicted buzz\n",
      "answer is 67, neural net predicted 67\n",
      "answer is 68, neural net predicted 68\n",
      "answer is buzz, neural net predicted buzz\n",
      "answer is fizz, neural net predicted fizz\n",
      "answer is 71, neural net predicted 71\n",
      "answer is buzz, neural net predicted buzz\n",
      "answer is 73, neural net predicted 73\n",
      "answer is 74, neural net predicted 74\n",
      "answer is fizzbuzz, neural net predicted fizzbuzz\n",
      "answer is 76, neural net predicted 76\n",
      "answer is 77, neural net predicted 77\n",
      "answer is buzz, neural net predicted buzz\n",
      "answer is 79, neural net predicted 79\n",
      "answer is fizz, neural net predicted 80\n",
      "answer is buzz, neural net predicted 81\n",
      "answer is 82, neural net predicted 82\n",
      "answer is 83, neural net predicted 83\n",
      "answer is buzz, neural net predicted buzz\n",
      "answer is fizz, neural net predicted fizz\n",
      "answer is 86, neural net predicted 86\n",
      "answer is buzz, neural net predicted buzz\n",
      "answer is 88, neural net predicted 88\n",
      "answer is 89, neural net predicted 89\n",
      "answer is fizzbuzz, neural net predicted fizzbuzz\n",
      "answer is 91, neural net predicted 91\n",
      "answer is 92, neural net predicted 92\n",
      "answer is buzz, neural net predicted buzz\n",
      "answer is 94, neural net predicted 94\n",
      "answer is fizz, neural net predicted fizz\n",
      "answer is buzz, neural net predicted buzz\n",
      "answer is 97, neural net predicted 97\n",
      "answer is 98, neural net predicted 98\n",
      "answer is buzz, neural net predicted buzz\n"
     ]
    }
   ],
   "source": [
    "for expected, got in zip(e,f):\n",
    "    print('answer is {}, neural net predicted {}'.format(expected, got))"
   ]
  },
  {
   "cell_type": "code",
   "execution_count": 11,
   "metadata": {
    "collapsed": true
   },
   "outputs": [],
   "source": [
    "rows = train_x.iterrows()\n",
    "i,r = next(rows)"
   ]
  },
  {
   "cell_type": "code",
   "execution_count": 12,
   "metadata": {},
   "outputs": [
    {
     "data": {
      "text/plain": [
       "0"
      ]
     },
     "execution_count": 12,
     "metadata": {},
     "output_type": "execute_result"
    }
   ],
   "source": [
    "i"
   ]
  },
  {
   "cell_type": "code",
   "execution_count": 15,
   "metadata": {},
   "outputs": [
    {
     "data": {
      "text/plain": [
       "array([1, 0, 1, 0, 0, 1, 1, 0, 0, 0])"
      ]
     },
     "execution_count": 15,
     "metadata": {},
     "output_type": "execute_result"
    }
   ],
   "source": [
    "np.asarray(r)"
   ]
  },
  {
   "cell_type": "code",
   "execution_count": null,
   "metadata": {
    "collapsed": true
   },
   "outputs": [],
   "source": []
  },
  {
   "cell_type": "code",
   "execution_count": null,
   "metadata": {
    "collapsed": true
   },
   "outputs": [],
   "source": []
  }
 ],
 "metadata": {
  "kernelspec": {
   "display_name": "groningen",
   "language": "python",
   "name": "groningen"
  },
  "language_info": {
   "codemirror_mode": {
    "name": "ipython",
    "version": 3
   },
   "file_extension": ".py",
   "mimetype": "text/x-python",
   "name": "python",
   "nbconvert_exporter": "python",
   "pygments_lexer": "ipython3",
   "version": "3.5.2"
  }
 },
 "nbformat": 4,
 "nbformat_minor": 2
}
