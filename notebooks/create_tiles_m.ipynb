{
 "cells": [
  {
   "cell_type": "code",
   "execution_count": null,
   "metadata": {},
   "outputs": [],
   "source": [
    "cd .."
   ]
  },
  {
   "cell_type": "code",
   "execution_count": null,
   "metadata": {},
   "outputs": [],
   "source": [
    "from data import helpers\n",
    "from data import queryer\n",
    "import copy\n",
    "import numpy as np\n",
    "import itertools\n",
    "import matplotlib.pyplot as plt\n",
    "import matplotlib\n",
    "%matplotlib inline\n",
    "egdata = queryer.get_earthquake_eager()\n",
    "print([k for k in egdata[0]])# for one earthquake here are the dictionarnum_py,y keys"
   ]
  },
  {
   "cell_type": "code",
   "execution_count": null,
   "metadata": {
    "collapsed": true,
    "scrolled": false
   },
   "outputs": [],
   "source": [
    "all_lat = np.asfarray([station['stationlat'] for station in egdata[0]['data']],float)\n",
    "all_lon = np.asfarray([station['stationlon'] for station in egdata[0]['data']],float)\n",
    "\n",
    "def remove_outside_bounds(lats, lons, lat_bound, lon_bound):\n",
    "    \"\"\"Args:\n",
    "    lats: a float array of station latitudes\n",
    "    lons: a float array of station longitudes\n",
    "    lat_bound: a boolean function for filtering lats\n",
    "    lon_bound: a boolean function for filtering lons\n",
    "       \n",
    "    Return:\n",
    "    modified_lats: lats with any out of bounds removed\n",
    "    modified_lons: lons with any out of bounds removed\n",
    "    \"\"\"\n",
    "    inside_bounds = [(lat,lon) for lat,lon in zip(lats, lons)\n",
    "                     if lat_bound(lat) and lon_bound(lon)]\n",
    "    return [lat for lat,lon in inside_bounds], [lon for lat,lon in inside_bounds]\n",
    "\n",
    "modified_lat, modified_lon =  remove_outside_bounds(\n",
    "    all_lat, all_lon,\n",
    "    lambda lat: lat>53.0,\n",
    "    lambda lon: lon>5.8)\n",
    "\n",
    "plt.plot(modified_lon,modified_lat,'b*')\n",
    "plt.show()\n",
    "def filter_coords(candidatelist, keeper_coords):\n",
    "    stations_matching_akeeper = [i for i in candidatelist\n",
    "                    if any(coords_match(i, keeper_coords))]\n",
    "    return stations_matching_akeeper\n",
    "def coords_match(record, latlons):\n",
    "    def checker(record, latlon): \n",
    "        latmatches = float(record['stationlat'])==latlon[0]\n",
    "        lonmatches = float(record['stationlon'])==latlon[1]\n",
    "        return latmatches and lonmatches\n",
    "    return [checker(record, i) for i in latlons]\n",
    "def filter_stations(egdata, stations_coords_to_keep):\n",
    "    new_data = copy.deepcopy(egdata)\n",
    "    for k in range(len(egdata)):\n",
    "        new_data[k]['data'] = filter_coords(new_data[k]['data'], stations_coords_to_keep)\n",
    "    return new_data\n",
    "filtered_data = filter_stations(egdata, list(zip(modified_lat, modified_lon)))\n",
    "       \n",
    "for station in egdata[0]['data']:\n",
    "    plt.plot(float(station['stationlon']),float(station['stationlat']),'y*')\n",
    "for k in range(len(egdata)-2):\n",
    "    plt.plot( egdata[k]['eventlon'], egdata[k]['eventlat'],'sk')\n",
    "for station in filtered_data[0]['data']:\n",
    "    plt.plot(float(station['stationlon']),float(station['stationlat']),'b*')"
   ]
  },
  {
   "cell_type": "code",
   "execution_count": null,
   "metadata": {
    "collapsed": true
   },
   "outputs": [],
   "source": [
    "def slicecalcer(dataarray, slicelen, metric):\n",
    "    n,t=np.shape(dataarray)\n",
    "    slice_steps = np.arange(0,t+1,slicelen)\n",
    "    slices = [dataarray[:,i[0]:i[1]] for i in zip(slice_steps, slice_steps[1::])]\n",
    "    \n",
    "    metrics = np.asarray([metric(arr, axis=1) for arr in slices]).T\n",
    "    return metrics\n",
    "def discretiser(plen_x,plen_y, x,y):\n",
    "    #plen_x : pixel length(degree) in x dim\n",
    "    #plen_y : pixel length(degree) in y dim\n",
    "    n = int(x/plen_x)\n",
    "    m = int(y/plen_y)\n",
    "    return (n,m)\n",
    "def grid_translation(topleft, stationlat, stationlon):\n",
    "\n",
    "    lon_ref = topleft[0]\n",
    "    lat_ref = topleft[1]\n",
    "\n",
    "    dx = (stationlon-lon_ref)\n",
    "    dy = (lat_ref-stationlat)\n",
    "    return (dx,dy)\n",
    "\n",
    "manytimeseries = egdata[0]['data']\n",
    "def extract_raw_timeseries(quake_records):\n",
    "    maxlen = max([len(quake['ts']) for quake in quake_records ])\n",
    "    return np.vstack([quake['ts'] for quake in quake_records\n",
    "                     if len(quake['ts']) ==maxlen])\n",
    "\n",
    "justdata =  extract_raw_timeseries(egdata[0]['data'])\n",
    "print(np.shape(justdata))\n",
    "dataarray = np.zeros((len(manytimeseries),manytimeseries[0]['ts'].size))\n",
    "i=0\n",
    "for stationdata in manytimeseries:\n",
    "    dataarray[i,0:stationdata['ts'].size] = np.array(stationdata['ts'])\n",
    "    i+=1\n",
    "    \n",
    "slicelen =400\n",
    "metric = np.max\n",
    "metrics = slicecalcer(dataarray, slicelen, metric)\n",
    "\n",
    "stationdeets = np.asarray([[i.get('stationlat'),i.get('stationlon')]\n",
    "                                for i in manytimeseries])\n",
    "lat,lon = np.asarray([stationdeets[i,:] for i in range(stationdeets.shape[0])],float).T\n",
    "print(lat.shape[0])\n",
    "\n",
    "#turn into grid\n",
    "\n",
    "topleft = np.asarray([6.4,53.50]) #-> initialize the top left part\n",
    "plen_x = 0.01 #-> angle that is covered by one pixel in x dir\n",
    "plen_y = 0.01 #-> angle that is covered by one pixel in y dir\n",
    "size_x = 0.8  #-> total covered angle in xdir (longitudes)\n",
    "size_y = 0.45 #-> total covere angle in ydir (lattitudes)\n",
    "#initialize the grid : 2D zeros matrix\n",
    "slice_grid = np.zeros((int(size_y/plen_y),int(size_x/plen_x),metrics.shape[1]))\n",
    "\n",
    "x,y = np.asarray([grid_translation(topleft,lat[i],lon[i]) for i in range(lat.shape[0])]).T\n",
    "n,m = np.asarray([discretiser(plen_x,plen_y,x[i],y[i]) for i in range(x.shape[0])]).T\n",
    "\n",
    "x_eq,y_eq = grid_translation(topleft,float(egdata[0]['eventlat']),float(egdata[0]['eventlon']))\n",
    "n_eq,m_eq = discretiser(plen_x,plen_y,x_eq,y_eq)\n",
    "\n",
    "# print(x)\n",
    "# print(m)\n",
    "print(slice_grid.shape)\n",
    "\n",
    "for time_slice in range(metrics.shape[1]):\n",
    "    for station in range(metrics.shape[0]):\n",
    "        #print(m[station],n[station])\n",
    "        val = np.absolute(metrics[station,time_slice])\n",
    "        if val<4000:\n",
    "            slice_grid[m[station],n[station],time_slice]=val\n",
    "            #print(metrics[station,0])\n",
    "\n",
    "print(type(slice_grid))\n",
    "#slice_grid[m_eq,n_eq,0]=500\n",
    "#print(slice_grid)\n",
    "max_row= np.max(np.max(slice_grid,axis=0))\n",
    "max_column =np.max(np.max(slice_grid,axis=1))\n",
    "print(max_row,max_column)\n",
    "\n",
    "from matplotlib.patches import Circle\n",
    "\n",
    "for i in range(slice_grid.shape[2]):\n",
    "    ax=plt.imshow(slice_grid[:,:,i])\n",
    "    circ = plt.Circle((n_eq,m_eq),1,fc='r')\n",
    "    plt.gca().add_patch(circ)\n",
    "    plt.show()\n",
    "\n",
    "for i in [0]:\n",
    "    ax=plt.imshow(slice_grid[:,:,i])\n",
    "    circ = plt.Circle((n_eq,m_eq),0.01,fc='r')\n",
    "    plt.gca().add_patch(circ)\n",
    "    plt.show()\n",
    "\n",
    "\n"
   ]
  },
  {
   "cell_type": "code",
   "execution_count": null,
   "metadata": {
    "collapsed": true,
    "scrolled": false
   },
   "outputs": [],
   "source": [
    "from scipy import interpolate\n",
    "\n",
    "grid_x = np.arange(slice_grid.shape[1])\n",
    "#grid_y = np.flip(np.arange(slice_grid.shape[0]),axis=0)\n",
    "grid_y = np.arange(slice_grid.shape[0])\n",
    "\n",
    "print(grid_x)\n",
    "print(grid_y)\n",
    "\n",
    "X, Y = np.meshgrid(grid_x, grid_y)\n",
    "Z = slice_grid[:,:,0]\n",
    "print(Y)\n",
    "plt.subplot(2, 1, 1)\n",
    "plt.pcolormesh(X,Y,Z)\n",
    "plt.gca().invert_yaxis()\n",
    "\n",
    "print(Z.shape)\n",
    "\n",
    "F = interpolate.interp2d(X,Y,Z,kind='linear')\n",
    "\n",
    "x_new = np.arange(0,slice_grid.shape[1],0.5)\n",
    "#y_new = np.flip(np.arange(0,slice_grid.shape[0],1),axis=0)\n",
    "y_new = np.arange(0,slice_grid.shape[0],0.5)\n",
    "\n",
    "print(y_new)\n",
    "z_new = F(x_new,y_new)\n",
    "#print(Z)\n",
    "#print(z_new)\n",
    "plt.subplot(2, 1, 2)\n",
    "Xn, Yn = np.meshgrid(x_new, y_new)\n",
    "plt.pcolormesh(Xn, Yn, z_new,cmap='hot')\n",
    "plt.gca().invert_yaxis()\n",
    "\n",
    "print(type(z_new))\n",
    "print(z_new.shape)\n",
    "#plt.imshow(z_new)\n"
   ]
  },
  {
   "cell_type": "code",
   "execution_count": null,
   "metadata": {
    "collapsed": true
   },
   "outputs": [],
   "source": [
    "from tile_creater import earthquake_to_training_and_label, gps_distance, latlon_to_idxer, get_pixel_lens"
   ]
  },
  {
   "cell_type": "code",
   "execution_count": null,
   "metadata": {
    "collapsed": true
   },
   "outputs": [],
   "source": [
    "topleft = (53.5, 6.4)\n",
    "sizex = 0.8\n",
    "sizey = 0.4\n",
    "numx= 180\n",
    "numy = 90\n",
    "slicelen=200\n",
    "frames_per_eg = 10\n",
    "plen_x, plen_y = get_pixel_lens(numx, numy, sizex, sizey)\n",
    "topright = (topleft[0]+sizex, topleft[1])\n",
    "bottomleft = (topleft[0], topleft[1]+sizey)\n",
    "print(gps_distance(topleft, topright))\n",
    "print(gps_distance(topleft, bottomleft))\n",
    "\n",
    "coords = (egdata[0]['eventlat'], egdata[0]['eventlon'])\n",
    "quake_x, quake_y = latlon_to_idxer(topleft,plen_x, plen_y)(*coords)\n",
    "print(quake_x, quake_y)\n",
    "\n",
    "label, tiles = earthquake_to_training_and_label(topleft,sizex,sizey,\n",
    "                                                numx, numy,slicelen,\n",
    "                                                frames_per_eg, egdata[0])\n",
    "print(label)"
   ]
  },
  {
   "cell_type": "code",
   "execution_count": null,
   "metadata": {},
   "outputs": [],
   "source": [
    "import seaborn as sns\n",
    "cmap = sns.cubehelix_palette(light=1, as_cmap=True)\n",
    "def plot_slice(tslice):\n",
    "    fig, ax = plt.subplots(1)\n",
    "    fig.set_size_inches(8,6)\n",
    "    ax = sns.heatmap(tslice, ax=ax)\n",
    "    #ax.set_aspect('equal')\n",
    "    #ax.scatter(quake_x,quake_y, marker='o', color = 'r', s=50)\n",
    "    sns.despine()\n",
    "    fig.tight_layout()\n",
    "    #fig.savefig('inspecttile', dpi=600)\n",
    "\n"
   ]
  },
  {
   "cell_type": "code",
   "execution_count": null,
   "metadata": {},
   "outputs": [],
   "source": [
    "data = np.loadtxt('data/tiles/knmi2018euoo_8.txt')\n",
    "plot_slice(data)"
   ]
  },
  {
   "cell_type": "code",
   "execution_count": null,
   "metadata": {
    "collapsed": true
   },
   "outputs": [],
   "source": []
  },
  {
   "cell_type": "code",
   "execution_count": null,
   "metadata": {
    "collapsed": true
   },
   "outputs": [],
   "source": [
    "\n"
   ]
  },
  {
   "cell_type": "code",
   "execution_count": null,
   "metadata": {
    "collapsed": true
   },
   "outputs": [],
   "source": []
  },
  {
   "cell_type": "code",
   "execution_count": null,
   "metadata": {
    "collapsed": true
   },
   "outputs": [],
   "source": []
  },
  {
   "cell_type": "code",
   "execution_count": null,
   "metadata": {
    "collapsed": true
   },
   "outputs": [],
   "source": []
  },
  {
   "cell_type": "code",
   "execution_count": null,
   "metadata": {
    "collapsed": true
   },
   "outputs": [],
   "source": []
  }
 ],
 "metadata": {
  "kernelspec": {
   "display_name": "groningen",
   "language": "python",
   "name": "groningen"
  },
  "language_info": {
   "codemirror_mode": {
    "name": "ipython",
    "version": 3
   },
   "file_extension": ".py",
   "mimetype": "text/x-python",
   "name": "python",
   "nbconvert_exporter": "python",
   "pygments_lexer": "ipython3",
   "version": "3.5.3"
  }
 },
 "nbformat": 4,
 "nbformat_minor": 2
}
