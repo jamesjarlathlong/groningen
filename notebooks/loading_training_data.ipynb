{
 "cells": [
  {
   "cell_type": "code",
   "execution_count": 1,
   "metadata": {},
   "outputs": [
    {
     "name": "stdout",
     "output_type": "stream",
     "text": [
      "/home/m13uz/groningen\n"
     ]
    }
   ],
   "source": [
    "cd .."
   ]
  },
  {
   "cell_type": "code",
   "execution_count": 2,
   "metadata": {},
   "outputs": [],
   "source": [
    "import tensorflow as tf\n",
    "import matplotlib\n",
    "import numpy as np\n",
    "import pandas as pd\n",
    "import json\n",
    "import os\n",
    "import itertools\n",
    "import functools\n",
    "import data.helpers as helpers\n",
    "import seaborn as sns\n",
    "import matplotlib.pyplot as plt\n",
    "from data.tile_creater import discretiser, grid_translation, get_pixel_lens"
   ]
  },
  {
   "cell_type": "code",
   "execution_count": 30,
   "metadata": {},
   "outputs": [],
   "source": [
    "cmap = sns.cubehelix_palette(light=1, as_cmap=True)\n",
    "def plot_slice(tslice):\n",
    "    fig, ax = plt.subplots(1)\n",
    "    fig.set_size_inches(8,6)\n",
    "    ax = sns.heatmap(tslice, ax=ax)\n",
    "    #ax.set_aspect('equal')\n",
    "    #ax.scatter(quake_x,quake_y, marker='o', color = 'r', s=50)\n",
    "    sns.despine()\n",
    "    fig.tight_layout()\n",
    "    #fig.savefig('inspecttile', dpi=600)"
   ]
  },
  {
   "cell_type": "code",
   "execution_count": 4,
   "metadata": {},
   "outputs": [],
   "source": [
    "def binary_encode(i, num_digits):\n",
    "    return np.array([i >> d & 1 for d in range(num_digits)])\n",
    "def fizz_buzz_encode(i):\n",
    "    if   i % 15 == 0: return 0#np.array([0, 0, 0, 1])\n",
    "    elif i % 5  == 0: return 1 #np.array([0, 0, 1, 0])\n",
    "    elif i % 3  == 0: return 2#np.array([0, 1, 0, 0])\n",
    "    else:             return 3#np.array([1, 0, 0, 0])\n",
    "\n",
    "def invert(label, sample):\n",
    "    if label == 3:\n",
    "        return sample\n",
    "    else:\n",
    "        return {0:'fizzbuzz', 1:'fizz',2:'buzz'}[label]\n",
    "def generate_training(num_digits, therange):\n",
    "    for i in range(*therange):\n",
    "        yield binary_encode(i, num_digits)\n",
    "names=[str(i) for i in range(12)]\n",
    "train_x = pd.DataFrame((i for i in generate_training(12,(101,1024))), columns=names)\n",
    "test_range = (0,100)\n",
    "train_range = (101,1024)\n",
    "train_y = np.asarray([fizz_buzz_encode(i) for i in range(*train_range)])\n",
    "test_x = pd.DataFrame((i for i in generate_training(12,test_range)),columns=names)\n",
    "test_y = np.asarray([fizz_buzz_encode(i) for i in range(*test_range)])"
   ]
  },
  {
   "cell_type": "code",
   "execution_count": 45,
   "metadata": {},
   "outputs": [],
   "source": [
    "def get_fnames():\n",
    "    prefix = 'data/tiles_small/'\n",
    "    fnames = [prefix+i for i in os.listdir(prefix)\n",
    "             if i.split('.')[-1] == 'txt']\n",
    "    return fnames\n",
    "def parse_filename(fname):\n",
    "    no_prefix = fname.strip('data/tiles_small')\n",
    "    eventid, seq_id = no_prefix.split('_')\n",
    "    return eventid, int(seq_id.strip('.txt'))\n",
    "def get_label(metadata, filename):\n",
    "    eventid, seqid = parse_filename(filename)\n",
    "    label = metadata[eventid]\n",
    "    return label\n",
    "def _format_label(eventlat,eventlon, eventdepth,\n",
    "                  eventmag,eventid,topleft,\n",
    "                  size_x,size_y,numx,numy, nonzeros):\n",
    "    \"\"\"\n",
    "    Args: label is like (53.223, 6.949, 3.0, 0.502994544, 'knmi2018etrn',...)\n",
    "    (oneevent['eventlat'],oneevent['eventlon']\n",
    "            ,oneevent['eventdepth'], oneevent['magnitude']\n",
    "            ,oneevent['eventid'], topleft, sizex, sizey, numx,numy)\n",
    "    Returns: onehot tile encoding - numpy array\n",
    "    \"\"\"\n",
    "    xy = grid_translation(topleft,eventlat,eventlon)\n",
    "    plen_x, plen_y = get_pixel_lens(numx, numy, size_x, size_y)\n",
    "    n,m = discretiser(plen_x,plen_y,xy)\n",
    "    event_label_matrix = np.zeros((int(numy),int(numx)))\n",
    "    try:\n",
    "        event_label_matrix[m,n]=1.0\n",
    "        event_label_matrix_flatten = event_label_matrix.flatten()\n",
    "        if nonzeros>10:\n",
    "            return event_label_matrix_flatten\n",
    "    except IndexError:\n",
    "        #earthquake was outside our grid if index error\n",
    "        return\n",
    "def format_frames(metadata,frames):\n",
    "    \"\"\"frames is a sequence of (eventid,seqnum,array)\"\"\"\n",
    "    frame_group = list(frames)\n",
    "    label = metadata[frames[0][0]]\n",
    "    onehot = _format_label(*label)\n",
    "    tensor_frames = np.dstack([np.loadtxt(frame[2]) \n",
    "                               for frame in frame_group])\n",
    "    return tensor_frames, onehot\n",
    "def gen(metadatafile,frames_per_eg, datafilenames):\n",
    "    with open(metadatafile) as f:\n",
    "        metadata = json.load(f)\n",
    "    loaded_files = ((*parse_filename(fname),fname)\n",
    "                    for fname in datafilenames) #np.loadtxt here in real execution\n",
    "    sorted_by_event = sorted(loaded_files, key=lambda x:x[0])\n",
    "    grouped_by_event = itertools.groupby(sorted_by_event, key = lambda x:x[0])\n",
    "    inorder_by_event = (sorted(g, key = lambda x:x[1]) for k,g in grouped_by_event)\n",
    "    window_groups_by_event = (helpers.grouper(frames_per_eg, group)\n",
    "                              for group in inorder_by_event)\n",
    "    formatted = (format_frames(metadata,framegroup) for framegroup\n",
    "                 in itertools.chain(*window_groups_by_event))\n",
    "    ingrid = ((tensor, label) for tensor, label\n",
    "             in formatted if isinstance(label, np.ndarray))\n",
    "    return ingrid\n",
    "    #for idx, row in x.iterrows():\n",
    "    #    data = np.asarray([row,\n",
    "    #                       row])\n",
    "    #    data = np.dstack((data,data, data))\n",
    "    #    label = y[idx]\n",
    "    #    yield data, label\n",
    "def train_input_fn(metadatafile, train_filenames, batch_size=20, repeat=100):\n",
    "    \"\"\"An input function for training\"\"\"\n",
    "    # Convert the inputs to a Dataset.\n",
    "    #dataset = tf.data.Dataset.from_tensor_slices((dict(features), labels))#.map(namer)\n",
    "    dataset = tf.data.Dataset.from_generator(lambda: gen(metadatafile,10, train_filenames)\n",
    "                                             ,output_types=(tf.int64, tf.int64)\n",
    "                                             ,output_shapes = (tf.TensorShape([30,60,10]),\n",
    "                                                               tf.TensorShape([1800]))\n",
    "                                            )\n",
    "    # Shuffle, repeat, and batch the examples.\n",
    "    dataset = dataset.shuffle(100).repeat(repeat).batch(batch_size)\n",
    "    # Return the dataset.\n",
    "    iterator = dataset.make_one_shot_iterator()\n",
    "    d,l = iterator.get_next()\n",
    "    return {'image':d}, l\n",
    "def test_input_fn(metadatafile, test_filenames, batch_size=1):\n",
    "    \"\"\"An input function for training\"\"\"\n",
    "    # Convert the inputs to a Dataset.\n",
    "    #dataset = tf.data.Dataset.from_tensor_slices((dict(features), labels))#.map(namer)\n",
    "    dataset = tf.data.Dataset.from_generator(lambda: gen(metadatafile,10, test_filenames)\n",
    "                                             ,output_types=(tf.int64, tf.int64)\n",
    "                                             ,output_shapes = (tf.TensorShape([30,60,10]),\n",
    "                                                               tf.TensorShape([1800]))\n",
    "                                            )\n",
    "    # Shuffle, repeat, and batch the examples.\n",
    "    dataset = dataset.shuffle(100)\n",
    "    # Return the dataset.\n",
    "    iterator = dataset.make_one_shot_iterator()\n",
    "    d,l = iterator.get_next()\n",
    "    return {'image':d}, l"
   ]
  },
  {
   "cell_type": "code",
   "execution_count": 46,
   "metadata": {},
   "outputs": [],
   "source": [
    "def split_traintest(fnames, train_proportion):\n",
    "    eventgetter = lambda f: parse_filename(f)[0]\n",
    "    orderedbyevent = sorted(fnames, key = eventgetter) \n",
    "    groupedbyevent = [list(g) for k,g in\n",
    "                      itertools.groupby(orderedbyevent, key = eventgetter)]\n",
    "    numevents = len(groupedbyevent)\n",
    "    n_training = int(numevents*train_proportion)\n",
    "    train, test = groupedbyevent[0:n_training], groupedbyevent[n_training::]\n",
    "    return list(itertools.chain(*train)), list(itertools.chain(*test))\n",
    "train, test = split_traintest(get_fnames(), 0.8)"
   ]
  },
  {
   "cell_type": "code",
   "execution_count": 47,
   "metadata": {},
   "outputs": [
    {
     "name": "stdout",
     "output_type": "stream",
     "text": [
      "{'image': array([[[0, 0, 0, ..., 0, 0, 0],\n",
      "        [0, 0, 0, ..., 0, 0, 0],\n",
      "        [0, 0, 0, ..., 0, 0, 0],\n",
      "        ...,\n",
      "        [0, 0, 0, ..., 0, 0, 0],\n",
      "        [0, 0, 0, ..., 0, 0, 0],\n",
      "        [0, 0, 0, ..., 0, 0, 0]],\n",
      "\n",
      "       [[0, 0, 0, ..., 0, 0, 0],\n",
      "        [0, 0, 0, ..., 0, 0, 0],\n",
      "        [0, 0, 0, ..., 0, 0, 0],\n",
      "        ...,\n",
      "        [0, 0, 0, ..., 0, 0, 0],\n",
      "        [0, 0, 0, ..., 0, 0, 0],\n",
      "        [0, 0, 0, ..., 0, 0, 0]],\n",
      "\n",
      "       [[0, 0, 0, ..., 0, 0, 0],\n",
      "        [0, 0, 0, ..., 0, 0, 0],\n",
      "        [0, 0, 0, ..., 0, 0, 0],\n",
      "        ...,\n",
      "        [0, 0, 0, ..., 0, 0, 0],\n",
      "        [0, 0, 0, ..., 0, 0, 0],\n",
      "        [0, 0, 0, ..., 0, 0, 0]],\n",
      "\n",
      "       ...,\n",
      "\n",
      "       [[0, 0, 0, ..., 0, 0, 0],\n",
      "        [0, 0, 0, ..., 0, 0, 0],\n",
      "        [0, 0, 0, ..., 0, 0, 0],\n",
      "        ...,\n",
      "        [0, 0, 0, ..., 0, 0, 0],\n",
      "        [0, 0, 0, ..., 0, 0, 0],\n",
      "        [0, 0, 0, ..., 0, 0, 0]],\n",
      "\n",
      "       [[0, 0, 0, ..., 0, 0, 0],\n",
      "        [0, 0, 0, ..., 0, 0, 0],\n",
      "        [0, 0, 0, ..., 0, 0, 0],\n",
      "        ...,\n",
      "        [0, 0, 0, ..., 0, 0, 0],\n",
      "        [0, 0, 0, ..., 0, 0, 0],\n",
      "        [0, 0, 0, ..., 0, 0, 0]],\n",
      "\n",
      "       [[0, 0, 0, ..., 0, 0, 0],\n",
      "        [0, 0, 0, ..., 0, 0, 0],\n",
      "        [0, 0, 0, ..., 0, 0, 0],\n",
      "        ...,\n",
      "        [0, 0, 0, ..., 0, 0, 0],\n",
      "        [0, 0, 0, ..., 0, 0, 0],\n",
      "        [0, 0, 0, ..., 0, 0, 0]]])}\n",
      "(30, 60, 10)\n",
      "(30, 60)\n",
      "(30, 60, 10)\n",
      "(30, 60)\n"
     ]
    },
    {
     "data": {
      "image/png": "[encoded data removed]",
      "text/plain": [
       "<matplotlib.figure.Figure at 0x7f849bf49d68>"
      ]
     },
     "metadata": {},
     "output_type": "display_data"
    },
    {
     "data": {
      "image/png": "[encoded data removed]",
      "text/plain": [
       "<matplotlib.figure.Figure at 0x7f83eecd3f28>"
      ]
     },
     "metadata": {},
     "output_type": "display_data"
    }
   ],
   "source": [
    "with tf.Session() as sess:\n",
    "    n = test_input_fn('data/tiles_small/metadata.json',test)\n",
    "    i, label = sess.run(n)\n",
    "    print(i)\n",
    "    for idx in range(2):\n",
    "        print(np.shape(i['image']))\n",
    "        sliced = i['image'][:,:,idx]\n",
    "        print(np.shape(sliced))\n",
    "        plot_slice(sliced)"
   ]
  },
  {
   "cell_type": "code",
   "execution_count": null,
   "metadata": {},
   "outputs": [],
   "source": []
  },
  {
   "cell_type": "code",
   "execution_count": null,
   "metadata": {},
   "outputs": [],
   "source": []
  },
  {
   "cell_type": "code",
   "execution_count": null,
   "metadata": {},
   "outputs": [],
   "source": []
  },
  {
   "cell_type": "code",
   "execution_count": null,
   "metadata": {},
   "outputs": [],
   "source": []
  },
  {
   "cell_type": "code",
   "execution_count": null,
   "metadata": {},
   "outputs": [],
   "source": []
  }
 ],
 "metadata": {
  "kernelspec": {
   "display_name": "groningen",
   "language": "python",
   "name": "groningen"
  },
  "language_info": {
   "codemirror_mode": {
    "name": "ipython",
    "version": 3
   },
   "file_extension": ".py",
   "mimetype": "text/x-python",
   "name": "python",
   "nbconvert_exporter": "python",
   "pygments_lexer": "ipython3",
   "version": "3.5.2"
  }
 },
 "nbformat": 4,
 "nbformat_minor": 2
}
