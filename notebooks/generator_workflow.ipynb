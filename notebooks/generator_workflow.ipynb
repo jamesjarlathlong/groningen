{
 "cells": [
  {
   "cell_type": "code",
   "execution_count": null,
   "metadata": {
    "collapsed": true
   },
   "outputs": [],
   "source": [
    "import tensorflow as tf\n",
    "import functools"
   ]
  },
  {
   "cell_type": "code",
   "execution_count": null,
   "metadata": {
    "collapsed": true
   },
   "outputs": [],
   "source": [
    "def label(i):\n",
    "    return 0 if i<10 else 1\n",
    "def gen(nn):\n",
    "    ii = 0\n",
    "    while ii < nn:\n",
    "        ii += 1\n",
    "        yield ii, ii+4, label(ii*2)\n",
    "def input_fn(n):\n",
    "    ds = tf.data.Dataset.from_generator(lambda: gen(n), (tf.int64, tf.int64,tf.int64)\n",
    "                                        ,([],[],[])) \n",
    "    ds = ds.batch(10)\n",
    "    x, y, z = ds.make_one_shot_iterator().get_next()\n",
    "    return {'x': x, 'y': y}, z\n",
    "\n",
    "def build_columns():\n",
    "    x = tf.feature_column.numeric_column('x')\n",
    "    y = tf.feature_column.numeric_column('y')\n",
    "    return [x, y]\n",
    "\n",
    "def mainr():\n",
    "    model = tf.estimator.DNNClassifier(\n",
    "        feature_columns=build_columns()\n",
    "        ,n_classes=2\n",
    "        ,hidden_units=[100, 100]\n",
    "        )\n",
    "    model.train(input_fn=lambda:input_fn(100))\n",
    "    results = model.evaluate(input_fn = lambda:input_fn(20))\n",
    "    print(results)"
   ]
  },
  {
   "cell_type": "code",
   "execution_count": null,
   "metadata": {},
   "outputs": [],
   "source": [
    "mainr()"
   ]
  },
  {
   "cell_type": "code",
   "execution_count": null,
   "metadata": {
    "collapsed": true
   },
   "outputs": [],
   "source": []
  },
  {
   "cell_type": "code",
   "execution_count": null,
   "metadata": {
    "collapsed": true
   },
   "outputs": [],
   "source": []
  }
 ],
 "metadata": {
  "kernelspec": {
   "display_name": "groningen",
   "language": "python",
   "name": "groningen"
  },
  "language_info": {
   "codemirror_mode": {
    "name": "ipython",
    "version": 3
   },
   "file_extension": ".py",
   "mimetype": "text/x-python",
   "name": "python",
   "nbconvert_exporter": "python",
   "pygments_lexer": "ipython3",
   "version": "3.5.3"
  }
 },
 "nbformat": 4,
 "nbformat_minor": 2
}
